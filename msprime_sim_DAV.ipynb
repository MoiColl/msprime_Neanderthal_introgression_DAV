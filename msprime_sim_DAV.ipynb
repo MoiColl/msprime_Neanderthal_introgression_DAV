{
 "cells": [
  {
   "cell_type": "markdown",
   "metadata": {},
   "source": [
    "# Simulating Neanderthal admixture in European and Asian populations with msprime\n",
    "\n",
    "*Moisès Coll Macià*\n",
    "\n",
    "moicoll@birc.au.dk\n",
    "\n",
    "<a name=\"casa\"></a>\n",
    "\n",
    "## Contents\n",
    "\n",
    "1. [ Introduction ](#intro)\n",
    "2. [ Packages ](#pack)\n",
    "3. [ Parameters ](#paramameters)\n",
    "4. [ Samples ](#samples_to_take)\n",
    "5. [ Simulation with msprime ](#simulations_msprime)\n",
    "6. [ Output VCF file like ](#output_VCFlike)\n",
    "\n",
    "    \n",
    "<a name=\"intro\"></a>\n",
    "\n",
    "## 1. Introduction \n",
    "\n",
    "In this Jupyther notebook I use msprime to simulate African, West Eurasian, East Asian and Archaic populations using msprime. I simulated 5 archaic populations: 3 Neanderthals (Vindija, Altai and intN) and 2 Denisovan populations (Denisova and intD). Both intN and intD correspond to the archaic populations that admixed with modern humans. In fact, I simulate the major admixture from Neanderthals to non-Africans (2%). The other archaic populations represent the genomes of the high coverage archaic samples (**D**enisova, **A**ltai Neanderthal and **V**indija Nenanderthal; **DAV**). The demographic model with split times, effective population sizes, admixture times and proportions for these populations is shown in [ Figure 1 ](#Figure1_demo). \n",
    "\n",
    "<a name=\"Figure1_demo\"></a>\n",
    "\n",
    "<img src=\"dem_sim.png\" alt=\"Drawing\" style=\"width: 1000px;\"/>\n",
    "\n",
    "**Figure 1.** Graphical representation of the demographic scenario simulated with msprime. Numbers on the left vertical margin indicate the time (in years) of each event. Names of each population simulated are shown on the bottom horizontal margin of the figure. Numbers below those names show the number of haplotipic samples to be taken from each population. The blue rectangles represent the phylogenetic relation among samples and their width is scaled according to effective population size or $N_e$ (also indicated as numbers for each branch). The admixture event from Neanderthals to non-Africans is shown as an arrow in red. Other arrows in gray show that they are coded in the simulation but that they have no effect.\n",
    "\n",
    "\n",
    "[<img src=\"arrow.png\" width=\"100\" style=\"float: left;\">](#casa) &nbsp;\n",
    "\n",
    "&nbsp;\n",
    "\n",
    "<a name=\"pack\"></a>\n",
    "## 2. Packages\n",
    "\n",
    "For python"
   ]
  },
  {
   "cell_type": "code",
   "execution_count": 1,
   "metadata": {},
   "outputs": [
    {
     "name": "stderr",
     "output_type": "stream",
     "text": [
      "R[write to console]: During startup - \n",
      "R[write to console]: Warning message:\n",
      "\n",
      "R[write to console]: Setting LC_CTYPE failed, using \"C\" \n",
      "\n",
      "/home/moicoll/miniconda2/envs/GenerationTime_simulations/lib/python3.7/site-packages/rpy2/robjects/pandas2ri.py:14: FutureWarning: pandas.core.index is deprecated and will be removed in a future version.  The public classes are available in the top-level namespace.\n",
      "  from pandas.core.index import Index as PandasIndex\n"
     ]
    }
   ],
   "source": [
    "import msprime as msp\n",
    "import time\n",
    "import numpy as np\n",
    "import sys\n",
    "import math\n",
    "import os\n",
    "from Bio import SeqIO\n",
    "import gzip\n",
    "from collections import defaultdict\n",
    "import timeit\n",
    "import matplotlib.pyplot as plt\n",
    "%load_ext rpy2.ipython"
   ]
  },
  {
   "cell_type": "markdown",
   "metadata": {},
   "source": [
    "For R"
   ]
  },
  {
   "cell_type": "code",
   "execution_count": 2,
   "metadata": {},
   "outputs": [
    {
     "name": "stderr",
     "output_type": "stream",
     "text": [
      "R[write to console]: -- Attaching packages --------------------------------------- tidyverse 1.3.0 --\n",
      "\n",
      "R[write to console]: v tibble  3.0.1     v dplyr   0.8.5\n",
      "v tidyr   1.0.3     v stringr 1.4.0\n",
      "v readr   1.3.1     v forcats 0.5.0\n",
      "v purrr   0.3.4     \n",
      "\n",
      "R[write to console]: -- Conflicts ------------------------------------------ tidyverse_conflicts() --\n",
      "x dplyr::filter() masks stats::filter()\n",
      "x dplyr::lag()    masks stats::lag()\n",
      "\n"
     ]
    }
   ],
   "source": [
    "%%R\n",
    "\n",
    "library(ggplot2)\n",
    "library(tidyverse)"
   ]
  },
  {
   "cell_type": "markdown",
   "metadata": {},
   "source": [
    "\n",
    "[ <img src=\"arrow.png\" width=\"100\" style=\"float: left;\"> ](#casa) &nbsp;\n",
    "\n",
    "&nbsp;\n",
    "\n",
    "\n",
    "<a name=\"paramameters\"></a>\n",
    "## 3. Parameters\n",
    "\n",
    "In this section I declare the variables with their corresponding value shown in [ Figure 1 ](#Figure1_demo). "
   ]
  },
  {
   "cell_type": "code",
   "execution_count": 4,
   "metadata": {},
   "outputs": [],
   "source": [
    "# Generation time, mutation rate and chromosome\n",
    "gen_time = 29.0    \n",
    "mut_rate =  1.25e-8 \n",
    "chrom    = 22\n",
    "\n",
    "# Admixture ratio and proportions\n",
    "bac_rate         = 0    \n",
    "P_Asia_Nean      = 0\n",
    "P_Euro_Asia_Nean = 0.02\n",
    "\n",
    "# Population sizes (malaspinas 2016)\n",
    "## Current population sizes\n",
    "N_Afri = 27122 \n",
    "N_Euro =  5000 \n",
    "N_Asia =  5000 \n",
    "N_Nint =  1000 \n",
    "N_Nvin =  1000\n",
    "N_Nalt =  1000\n",
    "N_Deni =  2000\n",
    "N_Dint =  2000\n",
    "\n",
    "## Ancestral population sizes\n",
    "N_Euro_Asia           = 5000 \n",
    "N_Euro_Asia_Afri      = 7000 \n",
    "N_Nint_Nvin           = 1000\n",
    "N_Nint_Nvin_Nalt      = 2000\n",
    "N_Deni_Dint           = 2000\n",
    "N_Arch                = 5000\n",
    "N_Euro_Asia_Afri_Arch = 7000 \n",
    "\n",
    "## Bottleneck population sizes\n",
    "N_B_Euro_Asia_1 =  250 \n",
    "N_B_Euro_Asia_2 = 1305 \n",
    "\n",
    "# Times\n",
    "## Split Times\n",
    "T_S_Euro_Asia_Afri_Arch = 580000 / gen_time \n",
    "T_S_Arch                = 420000 / gen_time\n",
    "T_S_Deni_Dint           = 350000 / gen_time\n",
    "T_S_Nint_Nvin_Nalt      = 130000 / gen_time\n",
    "T_S_Nint_Nvin           =  90000 / gen_time\n",
    "T_S_Euro_Asia_Afri      =  62041 / gen_time \n",
    "T_S_Euro_Asia           =  41997 / gen_time \n",
    "\n",
    "## Bottleneck Times\n",
    "T_B_Euro_Asia = 57100 / gen_time \n",
    "\n",
    "\n",
    "## Bottleneck duration\n",
    "T_B = 100 \n",
    "\n",
    "## Admixture Times\n",
    "T_A_Euro_Asia_Nean = 54000 / gen_time \n",
    "T_A_Asia_Nean      = 38000 / gen_time \n",
    "T_A_Afri_Euro      =     0 / gen_time \n",
    "\n",
    "\n",
    "# Define population_configurations paramter. The commented numbers are the population id in the simulations. \n",
    "population_configurations = [\n",
    "    msp.PopulationConfiguration(initial_size = N_Afri), #0 ---|-----------|------\n",
    "    msp.PopulationConfiguration(initial_size = N_Euro), #1 -|-|           |\n",
    "    msp.PopulationConfiguration(initial_size = N_Asia), #2 -|             |\n",
    "    msp.PopulationConfiguration(initial_size = N_Nint), #3 -----|-|----|--|\n",
    "    msp.PopulationConfiguration(initial_size = N_Nvin), #4 -----| |    |\n",
    "    msp.PopulationConfiguration(initial_size = N_Nalt), #5 -------|    |\n",
    "    msp.PopulationConfiguration(initial_size = N_Deni), #6 ---------|--|\n",
    "    msp.PopulationConfiguration(initial_size = N_Dint)  #7 ---------|\n",
    "]\n",
    "\n",
    "demographic_events = [\n",
    "    # End Europe to Africa backflow\n",
    "    msp.MigrationRateChange(time = 0, rate = bac_rate, matrix_index = (0, 1)),\n",
    "    # Start Europe to Africa backflow\n",
    "    msp.MigrationRateChange(time= T_A_Afri_Euro, rate= 0, matrix_index=(0, 1)),\n",
    "    # Gene flow from Neanderthals to Asia\n",
    "    msp.MassMigration(time = T_A_Asia_Nean, source = 2, destination = 3, proportion = P_Asia_Nean),\n",
    "    # Europeans and Asians divergence\n",
    "    msp.MassMigration(time = T_S_Euro_Asia, source = 2, destination = 1, proportion = 1.0),\n",
    "    # Eurasians population size\n",
    "    msp.PopulationParametersChange(time = T_S_Euro_Asia, initial_size = N_Euro_Asia, growth_rate = 0, population_id = 1),\n",
    "    # Neanderthal admixture into Eurasians\n",
    "    msp.MassMigration(time = T_A_Euro_Asia_Nean, source = 1, destination = 3, proportion = P_Euro_Asia_Nean),\n",
    "    # Eurasians bottleneck\n",
    "    msp.PopulationParametersChange(time = T_B_Euro_Asia - T_B, initial_size = N_B_Euro_Asia_2, growth_rate = 0, population_id = 1),\n",
    "    # Eurasia population size\n",
    "    msp.PopulationParametersChange(time = T_B_Euro_Asia, initial_size = N_Euro_Asia, growth_rate = 0, population_id = 1),\n",
    "    # Out of Africa bottleneck\n",
    "    msp.PopulationParametersChange(time = T_S_Euro_Asia_Afri - T_B, initial_size = N_B_Euro_Asia_1, growth_rate = 0, population_id = 1),\n",
    "    # Eurasians diverge from Africans\n",
    "    msp.MassMigration(time = T_S_Euro_Asia_Afri, source = 1, destination = 0, proportion = 1.0),\n",
    "    msp.PopulationParametersChange(time = T_S_Euro_Asia_Afri, initial_size = N_Euro_Asia_Afri, growth_rate = 0, population_id = 0), # a bit different (Laurits adds 0.0001 to time)\n",
    "    # Introgressing Neanderthal and Vindija Neanderthal split\n",
    "    msp.MassMigration(time = T_S_Nint_Nvin, source = 4, destination = 3, proportion = 1.0),\n",
    "    msp.PopulationParametersChange(time = T_S_Nint_Nvin, initial_size = N_Nint_Nvin, growth_rate = 0, population_id = 3),\n",
    "    # Introgressing Neanderthal, Vindija Neanderthal and Altai Neanderthal split\n",
    "    msp.MassMigration(time = T_S_Nint_Nvin_Nalt, source = 5, destination = 3, proportion = 1.0),\n",
    "    msp.PopulationParametersChange(time = T_S_Nint_Nvin_Nalt, initial_size = N_Nint_Nvin_Nalt, growth_rate = 0, population_id = 3),\n",
    "    # Introgressing Denisova and sequenced Denisova split\n",
    "    msp.MassMigration(time = T_S_Deni_Dint, source = 7, destination = 6, proportion = 1.0),\n",
    "    msp.PopulationParametersChange(time = T_S_Deni_Dint, initial_size = N_Deni_Dint, growth_rate = 0, population_id = 6),\n",
    "    # Archaics split\n",
    "    msp.MassMigration(time = T_S_Arch, source = 6, destination = 3, proportion = 1.0),\n",
    "    msp.PopulationParametersChange(time = T_S_Arch, initial_size = N_Arch, growth_rate = 0, population_id = 3),\n",
    "    # Neanderthals and modern humans divergence\n",
    "    msp.MassMigration(time = T_S_Euro_Asia_Afri_Arch, source = 3, destination = 0, proportion = 1.0),\n",
    "    # Ancestral population size of Neanderthals and modern humans\n",
    "    msp.PopulationParametersChange(time = T_S_Euro_Asia_Afri_Arch, initial_size = N_Euro_Asia_Afri_Arch, growth_rate = 0, population_id = 0), \n",
    "]"
   ]
  },
  {
   "cell_type": "markdown",
   "metadata": {},
   "source": [
    "\n",
    "[<img src=\"arrow.png\" width=\"100\" style=\"float: left;\">](#casa) &nbsp;\n",
    "\n",
    "&nbsp;\n",
    "\n",
    "\n",
    "<a name=\"samples_to_take\"></a>\n",
    "## 4. Samples\n",
    "\n",
    "Here, I define the samples that I'm going to get from the different populations and the time that these samples are going to be retrieved (backwards in time). The sample details are summarized in [ Table 1 ](#Table1).\n",
    "\n",
    "<a name=\"Table1\"></a>\n",
    "\n",
    "population   | nº haplotipic samples | sampling time (years)\n",
    "-------------|-----------------------|----------------------\n",
    "Africa       | 1000                  |      0\n",
    "West Eurasia |  100                  |      0\n",
    "East Asia    |  100                  |      0\n",
    "Vindija      |    2                  |  60000\n",
    "Altai        |    2                  | 120000\n",
    "Denisova     |    2                  |  80000\n",
    "\n",
    "**Table 1.** Samples to be extracted from the demographic simulation.\n"
   ]
  },
  {
   "cell_type": "code",
   "execution_count": 19,
   "metadata": {},
   "outputs": [],
   "source": [
    "sample_index = defaultdict(lambda : defaultdict(lambda : None))\n",
    "\n",
    "i2p = {0 : \"African\",\n",
    "       1 : \"European\",\n",
    "       2 : \"Asian\",\n",
    "       4 : \"Vindija\",\n",
    "       5 : \"Altai\",\n",
    "       6 : \"Denisova\"}\n",
    "\n",
    "samples = []\n",
    "col     = 0\n",
    "col_out = 2\n",
    "\n",
    "pop_to_sample = [   0,                               1,                               2,                  4,                   5,                 6]\n",
    "num_to_sample = [1000,                             100,                             100,                  2,                   2,                 2]\n",
    "tim_to_sample = [ [0], [x for x in range(0, 0+1, 100)], [x for x in range(0, 0+1, 100)], [60000.0/gen_time], [120000.0/gen_time], [80000.0/gen_time]]\n",
    "\n",
    "for pop, n, times in zip(pop_to_sample, num_to_sample, tim_to_sample):\n",
    "    for t in times:\n",
    "        for i in range(n):\n",
    "            samples += [msp.Sample(pop, t)]\n",
    "            \n",
    "            sample_index[col][\"ind\"]     = int(i/2)+1\n",
    "            sample_index[col][\"pop\"]     = i2p[pop]\n",
    "            sample_index[col][\"time\"]    = t\n",
    "            sample_index[col][\"col_out\"] = col_out\n",
    "            \n",
    "            if pop: # Excluding africans\n",
    "                col_out += 1\n",
    "                \n",
    "            col += 1"
   ]
  },
  {
   "cell_type": "markdown",
   "metadata": {},
   "source": [
    "\n",
    "[<img src=\"arrow.png\" width=\"100\" style=\"float: left;\">](#casa) &nbsp;\n",
    "\n",
    "&nbsp;\n",
    "\n",
    "\n",
    "<a name=\"simulations_msprime\"></a>\n",
    "\n",
    "## 5. Simulation with msprime\n",
    "\n",
    "In the next chunk, I use `msprime.simulate()` with all the parameters defined above. However, if the simulations had been already run, I'll just load the `treeseq` file instead. For this example, I olny simulate chromosome 22 (defined in [ Parameters ](#paramameters)). For that, you need the genetic map corresponding to that chromosome."
   ]
  },
  {
   "cell_type": "code",
   "execution_count": 11,
   "metadata": {},
   "outputs": [
    {
     "name": "stdout",
     "output_type": "stream",
     "text": [
      "Simulating DAV_genomes 22\n",
      "Time:  167.41588401049376\n"
     ]
    }
   ],
   "source": [
    "if not os.path.exists(\"{}_{}.treeseq\".format(\"DAV_genomes\", chrom)):\n",
    "    print(\"Simulating {} {}\".format(\"DAV_genomes\", chrom))\n",
    "    start = timeit.default_timer()\n",
    "\n",
    "    ts = msp.simulate(\n",
    "        samples                   = samples,\n",
    "        population_configurations = population_configurations,\n",
    "        demographic_events        = demographic_events,\n",
    "        recombination_map         = msp.RecombinationMap.read_hapmap('genetic_map_GRCh37_chr{}.txt'.format(chrom)),      \n",
    "        mutation_rate             = mut_rate,\n",
    "        record_migrations         = True\n",
    "    )\n",
    "\n",
    "    stop = timeit.default_timer()\n",
    "\n",
    "    print('Time: ', stop - start)  \n",
    "\n",
    "    ts.dump(\"{}_{}.treeseq\".format(\"DAV_genomes\", chrom))\n",
    "else:\n",
    "    print(\"Loading {} {}\".format(\"DAV_genomes\", chrom))\n",
    "    ts = msp.tskit.load(\"{}_{}.treeseq\".format(\"DAV_genomes\", chrom))"
   ]
  },
  {
   "cell_type": "markdown",
   "metadata": {},
   "source": [
    "\n",
    "[<img src=\"arrow.png\" width=\"100\" style=\"float: left;\">](#casa) &nbsp;\n",
    "\n",
    "&nbsp;\n",
    "\n",
    "<a name=\"output_VCFlike\"></a>\n",
    "## 6. Output VCF file like\n",
    "\n",
    "Because I want to reproduce real modern human genomes, I will mask positions that are in:\n",
    "- Repeat regions (defined by RepeatMasker)\n",
    "- Are not callable in 1000Genomes Project\n",
    "\n",
    "I'm also interesed on removing variants in the genomes of Europeans and Asians that are also polymorphic in Africa in order to run [ Skov et al ](https://doi.org/10.1371/journal.pgen.1007641) method to detect archaic fragments on those simulated genomes. Finally, at the end of the file, I also output the genotypes of a simulated Altai Neanderthal, Vindija Neanderthal and Denisova genomes. \n",
    "\n",
    "I'll finally output a VCF like file in which each column is going to be a haplotypic chromosome (0 = ancestral allele, 1 = derived allele) and each row is going to be a different variant. The names of the columns  will have the following format:\n",
    "\n",
    "- Column name in the text file\n",
    "- Individual number in the population (1st individual of Europeans is going to be 1)\n",
    "- Population\n",
    "- Sampling time"
   ]
  },
  {
   "cell_type": "code",
   "execution_count": 20,
   "metadata": {},
   "outputs": [],
   "source": [
    "for seq_record in SeqIO.parse(open( \"chr{}.fa.masked\".format(chrom), \"r\"), \"fasta\"):\n",
    "    repeatmask = seq_record.seq\n",
    "\n",
    "for seq_record in SeqIO.parse(open(\"20140520.chr{}.strict_mask.fasta\".format(chrom), \"r\"), \"fasta\"):\n",
    "    callable_mask = seq_record.seq\n",
    "    \n",
    "Eurasia_individuals = np.sort(np.concatenate((ts.get_samples(1), ts.get_samples(2))))\n",
    "African_individuals = ts.get_samples(0)\n",
    "Archaic_individuals = np.sort(np.concatenate((ts.get_samples(4), ts.get_samples(5), ts.get_samples(6))))\n",
    "\n",
    "out     = open(\"{}_{}.txt\".format(\"DAV_genomes\", chrom), \"w\")\n",
    "\n",
    "header = 'chr\\tpos'\n",
    "for ind in Eurasia_individuals:\n",
    "    header = header+\"\\t{}_{}_{}_{}\".format(sample_index[ind][\"col_out\"], sample_index[ind][\"ind\"], sample_index[ind][\"pop\"], sample_index[ind][\"time\"])\n",
    "for ind in Archaic_individuals:\n",
    "    header = header+\"\\t{}_{}_{}_0\".format(sample_index[ind][\"col_out\"], sample_index[ind][\"ind\"], sample_index[ind][\"pop\"])\n",
    "header = header+\"\\n\"\n",
    "out.write(header)\n",
    "\n",
    "for variant in ts.variants():\n",
    "    pos = int(variant.site.position)\n",
    "    if repeatmask[pos] != 'N' and callable_mask[pos] == 'P' and np.sum(variant.genotypes[African_individuals]) == 0:\n",
    "        if np.sum(variant.genotypes[Eurasia_individuals]) > 0:\n",
    "            out.write('\\t'.join([str(x) for x in [chrom, pos] + list(variant.genotypes[Eurasia_individuals])]) + '\\t' + '\\t'.join([str(x) for x in list(variant.genotypes[Archaic_individuals])]) + '\\n')\n",
    "out.close()"
   ]
  },
  {
   "cell_type": "markdown",
   "metadata": {},
   "source": [
    "Here is a little example of how the file looks like"
   ]
  },
  {
   "cell_type": "code",
   "execution_count": 21,
   "metadata": {},
   "outputs": [
    {
     "name": "stdout",
     "output_type": "stream",
     "text": [
      "chr\tpos\t2_1_European_0\t3_1_European_0\t4_2_European_0\t202_1_Vindija_0\t203_1_Vindija_0\n",
      "22\t17060009\t0\t0\t0\t0\t0\n",
      "22\t17073496\t0\t0\t0\t0\t0\n",
      "22\t17087617\t0\t0\t0\t0\t0\n",
      "22\t17090677\t0\t0\t0\t0\t0\n",
      "22\t17130825\t0\t0\t0\t0\t0\n",
      "22\t17197713\t0\t0\t0\t0\t0\n",
      "22\t17198173\t0\t0\t0\t0\t0\n",
      "22\t17201279\t0\t0\t0\t0\t0\n",
      "22\t17204783\t0\t0\t0\t0\t0\n"
     ]
    }
   ],
   "source": [
    "%%bash\n",
    "\n",
    "head DAV_genomes_22.txt | awk '{print $1\"\\t\"$2\"\\t\"$3\"\\t\"$4\"\\t\"$5\"\\t\"$203\"\\t\"$204}'"
   ]
  },
  {
   "cell_type": "markdown",
   "metadata": {},
   "source": [
    "In the following chunck, I'm going to extract the columns for 2_1_European_0 and 203_1_Vindija_0"
   ]
  },
  {
   "cell_type": "code",
   "execution_count": 3,
   "metadata": {},
   "outputs": [],
   "source": [
    "%%bash\n",
    "\n",
    "awk '{if(NR == 1){print $1\"\\t\"$2\"\\t\"$3\"\\t\"$4\"\\t\"$203\"\\t\"$204}else{if($3+$4+$203+$204 > 0){print $1\"\\t\"$2\"\\t\"$3\"\\t\"$4\"\\t\"$203\"\\t\"$204}}}' DAV_genomes_22.txt > DAV_genomes_22_2_samples.txt"
   ]
  },
  {
   "cell_type": "markdown",
   "metadata": {},
   "source": [
    "In R, as example, I plot the number of derived alleles found when the chromosome 22 is divided in non-overlapping bins of 100kb."
   ]
  },
  {
   "cell_type": "code",
   "execution_count": 17,
   "metadata": {},
   "outputs": [
    {
     "data": {
      "image/png": "[encoded data removed]"
     },
     "metadata": {},
     "output_type": "display_data"
    }
   ],
   "source": [
    "%%R\n",
    "\n",
    "read.table(\"DAV_genomes_22_2_samples.txt\", header = T) %>%\n",
    "    gather(\"pop\", \"geno\", 3:6) %>%\n",
    "    mutate(pop = ifelse(str_detect(pop, \"European\"), \"European\", \"Neanderthal\")) %>%\n",
    "    mutate(pos = trunc(pos/100000)) %>%\n",
    "    group_by(pos, pop) %>%\n",
    "    summarize(der = sum(geno)) %>%\n",
    "    ungroup() %>%\n",
    "    ggplot(aes(x = pop, y = der)) +\n",
    "    geom_boxplot(color = \"black\", alpha = 0) +\n",
    "    geom_jitter(aes(color = pop), alpha = 0.25) +\n",
    "    theme_light()"
   ]
  },
  {
   "cell_type": "markdown",
   "metadata": {},
   "source": [
    "\n",
    "[<img src=\"arrow.png\" width=\"100\" style=\"float: left;\">](#casa) &nbsp;\n",
    "\n",
    "&nbsp;"
   ]
  }
 ],
 "metadata": {
  "kernelspec": {
   "display_name": "Python 3",
   "language": "python",
   "name": "python3"
  },
  "language_info": {
   "codemirror_mode": {
    "name": "ipython",
    "version": 3
   },
   "file_extension": ".py",
   "mimetype": "text/x-python",
   "name": "python",
   "nbconvert_exporter": "python",
   "pygments_lexer": "ipython3",
   "version": "3.7.6"
  }
 },
 "nbformat": 4,
 "nbformat_minor": 4
}
